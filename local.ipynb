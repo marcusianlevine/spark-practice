{
 "cells": [
  {
   "cell_type": "code",
   "execution_count": 1,
   "metadata": {},
   "outputs": [],
   "source": [
    "from pyspark import SparkContext, SQLContext\n",
    "\n",
    "sc = SparkContext(\"local[*]\")"
   ]
  },
  {
   "cell_type": "code",
   "execution_count": 18,
   "metadata": {},
   "outputs": [],
   "source": [
    "from pyspark.sql import Row\n",
    "from pyspark.sql.types import *"
   ]
  },
  {
   "cell_type": "code",
   "execution_count": 2,
   "metadata": {},
   "outputs": [],
   "source": [
    "sqlc = SQLContext(sc)"
   ]
  },
  {
   "cell_type": "markdown",
   "metadata": {},
   "source": [
    "# USDA Nutrient Data"
   ]
  },
  {
   "cell_type": "markdown",
   "metadata": {},
   "source": [
    "## Fetch raw data from official site"
   ]
  },
  {
   "cell_type": "code",
   "execution_count": 9,
   "metadata": {},
   "outputs": [
    {
     "name": "stdout",
     "output_type": "stream",
     "text": [
      "--2018-05-19 14:50:21--  https://www.ars.usda.gov/ARSUserFiles/80400525/Data/SR/SR28/dnload/sr28abbr.zip\n",
      "Resolving www.ars.usda.gov (www.ars.usda.gov)... 199.133.10.189\n",
      "Connecting to www.ars.usda.gov (www.ars.usda.gov)|199.133.10.189|:443... connected.\n",
      "HTTP request sent, awaiting response... 200 OK\n",
      "Length: 1265639 (1.2M) [application/x-zip-compressed]\n",
      "Saving to: ‘sr28abbr.zip.1’\n",
      "\n",
      "sr28abbr.zip.1      100%[===================>]   1.21M  1.83MB/s    in 0.7s    \n",
      "\n",
      "2018-05-19 14:50:37 (1.83 MB/s) - ‘sr28abbr.zip.1’ saved [1265639/1265639]\n",
      "\n",
      "Archive:  sr28abbr.zip\n",
      "  inflating: ABBREV.txt              \n",
      "  inflating: sr28_doc.pdf            \n"
     ]
    }
   ],
   "source": [
    "! cd data && wget https://www.ars.usda.gov/ARSUserFiles/80400525/Data/SR/SR28/dnload/sr28abbr.zip && unzip sr28abbr.zip "
   ]
  },
  {
   "cell_type": "markdown",
   "metadata": {},
   "source": [
    "## Ingest and split raw text file"
   ]
  },
  {
   "cell_type": "code",
   "execution_count": 10,
   "metadata": {},
   "outputs": [],
   "source": [
    "raw_nutr = sc.textFile(\"data/ABBREV.txt\")"
   ]
  },
  {
   "cell_type": "code",
   "execution_count": 12,
   "metadata": {},
   "outputs": [
    {
     "data": {
      "text/plain": [
       "'~01001~^~BUTTER,WITH SALT~^15.87^717^0.85^81.11^2.11^0.06^0.0^0.06^24^0.02^2^24^24^643^0.09^0.000^0.000^1.0^0.0^0.005^0.034^0.042^0.110^0.003^3^0^3^3^18.8^0.17^2499^684^671^0^158^0^0^0^2.32^0.0^0^7.0^51.368^21.021^3.043^215^5.0^~1 pat,  (1\" sq, 1/3\" high)~^14.2^~1 tbsp~^0'"
      ]
     },
     "execution_count": 12,
     "metadata": {},
     "output_type": "execute_result"
    }
   ],
   "source": [
    "raw_nutr.first()"
   ]
  },
  {
   "cell_type": "code",
   "execution_count": 13,
   "metadata": {},
   "outputs": [],
   "source": [
    "split_nutr = raw_nutr.map(lambda x: x.split(\"^\"))"
   ]
  },
  {
   "cell_type": "code",
   "execution_count": 20,
   "metadata": {},
   "outputs": [],
   "source": [
    "first_row = split_nutr.first()"
   ]
  },
  {
   "cell_type": "code",
   "execution_count": 21,
   "metadata": {},
   "outputs": [
    {
     "name": "stdout",
     "output_type": "stream",
     "text": [
      "['~01001~', '~BUTTER,WITH SALT~', '15.87', '717', '0.85', '81.11', '2.11', '0.06', '0.0', '0.06', '24', '0.02', '2', '24', '24', '643', '0.09', '0.000', '0.000', '1.0', '0.0', '0.005', '0.034', '0.042', '0.110', '0.003', '3', '0', '3', '3', '18.8', '0.17', '2499', '684', '671', '0', '158', '0', '0', '0', '2.32', '0.0', '0', '7.0', '51.368', '21.021', '3.043', '215', '5.0', '~1 pat,  (1\" sq, 1/3\" high)~', '14.2', '~1 tbsp~', '0']\n"
     ]
    }
   ],
   "source": [
    "print(first_row)"
   ]
  },
  {
   "cell_type": "markdown",
   "metadata": {},
   "source": [
    "## Generate schema to create DataFrame"
   ]
  },
  {
   "cell_type": "code",
   "execution_count": null,
   "metadata": {},
   "outputs": [],
   "source": [
    "col_names = [\"id\", \"description\", ]"
   ]
  },
  {
   "cell_type": "code",
   "execution_count": null,
   "metadata": {},
   "outputs": [],
   "source": [
    "def get_type(col):\n",
    "    if \"~\" in col:\n",
    "        return StringType()\n",
    "    else:\n",
    "        return IntegerType()"
   ]
  },
  {
   "cell_type": "code",
   "execution_count": 16,
   "metadata": {},
   "outputs": [],
   "source": [
    "schema = StructType([\n",
    "    StructField(col_names[i], get_type(first_row[i]), True)\n",
    "    for i in range(len(first_row))\n",
    "])"
   ]
  },
  {
   "cell_type": "code",
   "execution_count": 19,
   "metadata": {},
   "outputs": [],
   "source": [
    "sqlc.createDataFrame?"
   ]
  },
  {
   "cell_type": "code",
   "execution_count": null,
   "metadata": {},
   "outputs": [],
   "source": [
    "sqlc.createDataFrame(split_nutr, schema=)"
   ]
  }
 ],
 "metadata": {
  "kernelspec": {
   "display_name": "Python 3",
   "language": "python",
   "name": "python3"
  },
  "language_info": {
   "codemirror_mode": {
    "name": "ipython",
    "version": 3
   },
   "file_extension": ".py",
   "mimetype": "text/x-python",
   "name": "python",
   "nbconvert_exporter": "python",
   "pygments_lexer": "ipython3",
   "version": "3.6.4"
  }
 },
 "nbformat": 4,
 "nbformat_minor": 2
}
